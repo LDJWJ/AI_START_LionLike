{
  "nbformat": 4,
  "nbformat_minor": 0,
  "metadata": {
    "kernelspec": {
      "display_name": "Python 3",
      "language": "python",
      "name": "python3"
    },
    "language_info": {
      "codemirror_mode": {
        "name": "ipython",
        "version": 3
      },
      "file_extension": ".py",
      "mimetype": "text/x-python",
      "name": "python",
      "nbconvert_exporter": "python",
      "pygments_lexer": "ipython3",
      "version": "3.7.3"
    },
    "colab": {
      "name": "bing_image_crawler.ipynb",
      "provenance": []
    }
  },
  "cells": [
    {
      "cell_type": "code",
      "metadata": {
        "id": "vN2ZfZygudzm",
        "colab_type": "code",
        "colab": {}
      },
      "source": [
        "!pip install icrawler"
      ],
      "execution_count": 0,
      "outputs": []
    },
    {
      "cell_type": "markdown",
      "metadata": {
        "id": "wd1XmlHIlXaR",
        "colab_type": "text"
      },
      "source": [
        ""
      ]
    },
    {
      "cell_type": "code",
      "metadata": {
        "id": "-MhQaENXudzv",
        "colab_type": "code",
        "colab": {}
      },
      "source": [
        "from icrawler.builtin import BingImageCrawler"
      ],
      "execution_count": 0,
      "outputs": []
    },
    {
      "cell_type": "code",
      "metadata": {
        "id": "VWegZvPrudz0",
        "colab_type": "code",
        "colab": {}
      },
      "source": [
        "bing_crawler = BingImageCrawler(\n",
        "    downloader_threads=4,\n",
        "    storage={'root_dir': 'C:/bus'} # value에 경로 입력\n",
        ")\n",
        "# filter"
      ],
      "execution_count": 0,
      "outputs": []
    },
    {
      "cell_type": "code",
      "metadata": {
        "id": "fZgc18cIudz4",
        "colab_type": "code",
        "colab": {}
      },
      "source": [
        "bing_crawler.crawl(keyword='bus', filters=None, offset=0, max_num=1000) # keyword에 검색어, max_num = 최대 파일수"
      ],
      "execution_count": 0,
      "outputs": []
    },
    {
      "cell_type": "code",
      "metadata": {
        "id": "p5Y6yLXqudz7",
        "colab_type": "code",
        "colab": {}
      },
      "source": [
        ""
      ],
      "execution_count": 0,
      "outputs": []
    }
  ]
}