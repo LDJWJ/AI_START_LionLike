{
 "cells": [
  {
   "cell_type": "code",
   "execution_count": null,
   "metadata": {},
   "outputs": [],
   "source": [
    "from google_images_download import google_images_download\n",
    " \n",
    "import ssl  # ssl Error 발생 시\n",
    "ssl._create_default_https_context = ssl._create_unverified_context  \n",
    " \n",
    " \n",
    "def imageCrawling(keyword, dir):\n",
    "    response = google_images_download.googleimagesdownload()\n",
    " \n",
    "    arguments = {\"keywords\":keyword,      # 검색 키워드\n",
    "                 \"limit\":1000,             # 크롤링 이미지 수\n",
    "                 \"print_urls\":True,       # 이미지 url 출력\n",
    "                 \"no_directory\":True,     # \n",
    "                 'output_directory':dir,\n",
    "                'chromedriver':'./driver/chromedriver.exe'}  # 크롤링 이미지를 저장할 폴더\n",
    " \n",
    "    paths = response.download(arguments)\n",
    "    print(paths)"
   ]
  },
  {
   "cell_type": "code",
   "execution_count": null,
   "metadata": {},
   "outputs": [],
   "source": [
    "imageCrawling('truck','./download/') # imageCrawling('검색어', '저장경로')"
   ]
  },
  {
   "cell_type": "code",
   "execution_count": null,
   "metadata": {},
   "outputs": [],
   "source": []
  }
 ],
 "metadata": {
  "kernelspec": {
   "display_name": "Python 3",
   "language": "python",
   "name": "python3"
  },
  "language_info": {
   "codemirror_mode": {
    "name": "ipython",
    "version": 3
   },
   "file_extension": ".py",
   "mimetype": "text/x-python",
   "name": "python",
   "nbconvert_exporter": "python",
   "pygments_lexer": "ipython3",
   "version": "3.7.3"
  }
 },
 "nbformat": 4,
 "nbformat_minor": 4
}
