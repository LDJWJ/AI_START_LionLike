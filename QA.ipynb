{
 "cells": [
  {
   "cell_type": "code",
   "execution_count": 1,
   "id": "3b89ddcc",
   "metadata": {},
   "outputs": [
    {
     "name": "stdout",
     "output_type": "stream",
     "text": [
      "질문을 입력해주세요 : 취미는?\n",
      "질문을 입력해주세요 : 오락은?\n",
      "질문을 입력해주세요 : q\n",
      "취미는?\n",
      "답변을 입력해주세요 : 게임\n",
      "오락은?\n",
      "답변을 입력해주세요 : lol\n",
      "[{'질문': '취미는?', '답변': '게임'}, {'질문': '오락은?', '답변': 'lol'}]\n"
     ]
    }
   ],
   "source": [
    "total_list = []\n",
    "while True:\n",
    "    question = input(\"질문을 입력해주세요 : \")\n",
    "    if question == \"q\":\n",
    "        break\n",
    "    else:\n",
    "        total_list.append({\"질문\" : question, \"답변\" : \"\"})\n",
    "for i in total_list:\n",
    "    print(i[\"질문\"])\n",
    "    answer = input(\"답변을 입력해주세요 : \")\n",
    "    i[\"답변\"] = answer\n",
    "print(total_list)"
   ]
  },
  {
   "cell_type": "code",
   "execution_count": null,
   "id": "9a75c9e6",
   "metadata": {},
   "outputs": [],
   "source": [
    "total_list = []\n",
    "while True:\n",
    "    question = input(\"질문을 입력해주세요 : \")\n",
    "    if question == \"q\":\n",
    "        break\n",
    "    else:\n",
    "        total_list.append({\"질문\" : question, \"답변\" : \"\"})\n",
    "\n",
    "for i in total_list:\n",
    "    x = 0   \n",
    "    print(i[\"질문\"])\n",
    "    answer = input(\"답변을 입력해주세요 : \")\n",
    "    i[\"답변\"] = answer\n",
    "    total_list[x]=i\n",
    "    x = x + 1\n",
    "        \n",
    "print(total_list)"
   ]
  }
 ],
 "metadata": {
  "kernelspec": {
   "display_name": "Python 3",
   "language": "python",
   "name": "python3"
  },
  "language_info": {
   "codemirror_mode": {
    "name": "ipython",
    "version": 3
   },
   "file_extension": ".py",
   "mimetype": "text/x-python",
   "name": "python",
   "nbconvert_exporter": "python",
   "pygments_lexer": "ipython3",
   "version": "3.8.10"
  }
 },
 "nbformat": 4,
 "nbformat_minor": 5
}
